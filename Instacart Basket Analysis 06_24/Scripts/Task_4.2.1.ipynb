{
 "cells": [
  {
   "cell_type": "markdown",
   "id": "0d979972-71bb-4fe6-a6bd-4f3ad7414bab",
   "metadata": {},
   "source": [
    "# 01.Importing libraries "
   ]
  },
  {
   "cell_type": "code",
   "execution_count": 1,
   "id": "fba6e631-ed18-481a-9caf-10d0c7763fb5",
   "metadata": {},
   "outputs": [],
   "source": [
    "# import libraries\n",
    "import pandas as pd\n",
    "import numpy as np\n",
    "import os"
   ]
  },
  {
   "cell_type": "code",
   "execution_count": 3,
   "id": "8660afaf-1d02-4986-bee4-ec51d18b4ee9",
   "metadata": {},
   "outputs": [],
   "source": [
    "x = 12"
   ]
  },
  {
   "cell_type": "code",
   "execution_count": 4,
   "id": "92e33287-ee85-4f1c-9b53-a049a67572df",
   "metadata": {},
   "outputs": [
    {
     "data": {
      "text/plain": [
       "12"
      ]
     },
     "execution_count": 4,
     "metadata": {},
     "output_type": "execute_result"
    }
   ],
   "source": [
    "x"
   ]
  },
  {
   "cell_type": "code",
   "execution_count": 5,
   "id": "bc3efdee-552d-4d23-863d-a7aab31dc5ea",
   "metadata": {},
   "outputs": [
    {
     "name": "stdout",
     "output_type": "stream",
     "text": [
      "12\n"
     ]
    }
   ],
   "source": [
    "print (x)"
   ]
  },
  {
   "cell_type": "code",
   "execution_count": 7,
   "id": "b48852a8-dce3-42ff-82f6-49f0ad54aa6a",
   "metadata": {},
   "outputs": [
    {
     "data": {
      "text/plain": [
       "int"
      ]
     },
     "execution_count": 7,
     "metadata": {},
     "output_type": "execute_result"
    }
   ],
   "source": [
    "type (x)"
   ]
  },
  {
   "cell_type": "code",
   "execution_count": 11,
   "id": "d0237db4-9ef3-40f5-a09f-a4f124ca059c",
   "metadata": {},
   "outputs": [],
   "source": [
    "y = 1.23"
   ]
  },
  {
   "cell_type": "code",
   "execution_count": 12,
   "id": "320310ef-00cd-4beb-a598-c54d33639a2d",
   "metadata": {},
   "outputs": [
    {
     "data": {
      "text/plain": [
       "float"
      ]
     },
     "execution_count": 12,
     "metadata": {},
     "output_type": "execute_result"
    }
   ],
   "source": [
    "type (y)"
   ]
  },
  {
   "cell_type": "code",
   "execution_count": 8,
   "id": "68426333-283b-44a8-becd-1b8b8d5bedc8",
   "metadata": {},
   "outputs": [],
   "source": [
    "p = 'world cup'"
   ]
  },
  {
   "cell_type": "code",
   "execution_count": 9,
   "id": "9cb521e2-0426-4a69-abac-4b73df12ec99",
   "metadata": {},
   "outputs": [
    {
     "data": {
      "text/plain": [
       "str"
      ]
     },
     "execution_count": 9,
     "metadata": {},
     "output_type": "execute_result"
    }
   ],
   "source": [
    "type (p)"
   ]
  },
  {
   "cell_type": "code",
   "execution_count": 10,
   "id": "56abb4eb-4ea0-4592-9f39-139977cf4873",
   "metadata": {},
   "outputs": [
    {
     "data": {
      "text/plain": [
       "str"
      ]
     },
     "execution_count": 10,
     "metadata": {},
     "output_type": "execute_result"
    }
   ],
   "source": [
    "type ('india')"
   ]
  },
  {
   "cell_type": "code",
   "execution_count": 18,
   "id": "77087cc4-55de-4abd-8b06-02226964d8ef",
   "metadata": {},
   "outputs": [],
   "source": [
    "q = 25"
   ]
  },
  {
   "cell_type": "code",
   "execution_count": 15,
   "id": "5ea31c64-775b-48fa-a624-46612af99f33",
   "metadata": {},
   "outputs": [],
   "source": [
    "r = 34"
   ]
  },
  {
   "cell_type": "code",
   "execution_count": 19,
   "id": "c8bab1eb-8f66-43eb-bd9a-2e451c17e4e9",
   "metadata": {},
   "outputs": [
    {
     "data": {
      "text/plain": [
       "False"
      ]
     },
     "execution_count": 19,
     "metadata": {},
     "output_type": "execute_result"
    }
   ],
   "source": [
    "    q == r "
   ]
  },
  {
   "cell_type": "code",
   "execution_count": 20,
   "id": "1586b186-5b1a-4277-9063-f410e942e088",
   "metadata": {},
   "outputs": [
    {
     "data": {
      "text/plain": [
       "bool"
      ]
     },
     "execution_count": 20,
     "metadata": {},
     "output_type": "execute_result"
    }
   ],
   "source": [
    "type ( q == r)"
   ]
  },
  {
   "cell_type": "code",
   "execution_count": 21,
   "id": "f579067b-6d68-4df0-99ae-ba85f463272d",
   "metadata": {},
   "outputs": [],
   "source": [
    "Z = 88\n"
   ]
  },
  {
   "cell_type": "code",
   "execution_count": 23,
   "id": "13d07da4-ba2f-4e1c-ae3b-62a1ec403c5c",
   "metadata": {},
   "outputs": [],
   "source": [
    "s = 4 "
   ]
  },
  {
   "cell_type": "code",
   "execution_count": 25,
   "id": "ef654122-6608-4eed-bb82-427e1837ef98",
   "metadata": {},
   "outputs": [],
   "source": [
    "o = 123"
   ]
  },
  {
   "cell_type": "code",
   "execution_count": 27,
   "id": "ed77d828-b4ce-4f73-aa52-0b3af5e6e852",
   "metadata": {},
   "outputs": [
    {
     "data": {
      "text/plain": [
       "100"
      ]
     },
     "execution_count": 27,
     "metadata": {},
     "output_type": "execute_result"
    }
   ],
   "source": [
    "x + Z"
   ]
  },
  {
   "cell_type": "code",
   "execution_count": 28,
   "id": "802c2226-f2d6-462c-897e-84d184724990",
   "metadata": {},
   "outputs": [
    {
     "data": {
      "text/plain": [
       "100.0"
      ]
     },
     "execution_count": 28,
     "metadata": {},
     "output_type": "execute_result"
    }
   ],
   "source": [
    "o/y"
   ]
  },
  {
   "cell_type": "code",
   "execution_count": 29,
   "id": "f50cb666-8d41-4b55-941f-c24b8ed0095d",
   "metadata": {},
   "outputs": [
    {
     "data": {
      "text/plain": [
       "100"
      ]
     },
     "execution_count": 29,
     "metadata": {},
     "output_type": "execute_result"
    }
   ],
   "source": [
    "q * s"
   ]
  },
  {
   "cell_type": "code",
   "execution_count": 30,
   "id": "7b54666b-6127-47d9-b755-c10f1c9ca924",
   "metadata": {},
   "outputs": [],
   "source": [
    "l = 2.5 "
   ]
  },
  {
   "cell_type": "code",
   "execution_count": 31,
   "id": "297b8dee-d9cc-4a1d-bc82-bee9b6918d05",
   "metadata": {},
   "outputs": [],
   "source": [
    "m = 6.8"
   ]
  },
  {
   "cell_type": "code",
   "execution_count": 32,
   "id": "3a564290-b3e4-462c-b23a-c06674930a4a",
   "metadata": {},
   "outputs": [
    {
     "data": {
      "text/plain": [
       "2.7199999999999998"
      ]
     },
     "execution_count": 32,
     "metadata": {},
     "output_type": "execute_result"
    }
   ],
   "source": [
    "m/l"
   ]
  },
  {
   "cell_type": "code",
   "execution_count": 33,
   "id": "b6600320-08a3-406c-a1a1-a3f62c04aaf8",
   "metadata": {},
   "outputs": [],
   "source": [
    " a = 'Happy'"
   ]
  },
  {
   "cell_type": "code",
   "execution_count": 34,
   "id": "326908ff-4974-4b25-b78d-3c3678f9779e",
   "metadata": {},
   "outputs": [],
   "source": [
    "b = '  life ' "
   ]
  },
  {
   "cell_type": "code",
   "execution_count": 36,
   "id": "c83690c4-73fb-4280-9505-f308e3c3d321",
   "metadata": {},
   "outputs": [],
   "source": [
    "c = ' , forever'"
   ]
  },
  {
   "cell_type": "code",
   "execution_count": 37,
   "id": "a58082ba-7c76-42b0-9778-3f0a529a0a94",
   "metadata": {},
   "outputs": [
    {
     "data": {
      "text/plain": [
       "'Happy  life  , forever'"
      ]
     },
     "execution_count": 37,
     "metadata": {},
     "output_type": "execute_result"
    }
   ],
   "source": [
    "a + b + c"
   ]
  },
  {
   "cell_type": "code",
   "execution_count": 38,
   "id": "bffff25d-3317-4f49-b6d2-327f6e6666a1",
   "metadata": {},
   "outputs": [],
   "source": [
    "d = ' i am learning '"
   ]
  },
  {
   "cell_type": "code",
   "execution_count": 39,
   "id": "7500d45c-f84a-41c4-9991-f2ad0ed10c75",
   "metadata": {},
   "outputs": [],
   "source": [
    "e = ' Data Analysis'"
   ]
  },
  {
   "cell_type": "code",
   "execution_count": 40,
   "id": "dca657bf-43fa-4368-abd0-58ff43481bc2",
   "metadata": {},
   "outputs": [
    {
     "data": {
      "text/plain": [
       "' i am learning  Data Analysis'"
      ]
     },
     "execution_count": 40,
     "metadata": {},
     "output_type": "execute_result"
    }
   ],
   "source": [
    "d + e"
   ]
  },
  {
   "cell_type": "code",
   "execution_count": 41,
   "id": "9a9a8d14-d4cc-43d2-ba8f-0c54d42a640b",
   "metadata": {},
   "outputs": [],
   "source": [
    "g = ' Netflix uses '"
   ]
  },
  {
   "cell_type": "code",
   "execution_count": 42,
   "id": "5399eaed-738f-409f-ba2a-be68912ee422",
   "metadata": {},
   "outputs": [],
   "source": [
    "h = ' python.'"
   ]
  },
  {
   "cell_type": "code",
   "execution_count": 43,
   "id": "855499ea-d348-4f35-a486-fa403be6018f",
   "metadata": {},
   "outputs": [
    {
     "data": {
      "text/plain": [
       "' Netflix uses  python.'"
      ]
     },
     "execution_count": 43,
     "metadata": {},
     "output_type": "execute_result"
    }
   ],
   "source": [
    "g + h "
   ]
  },
  {
   "cell_type": "code",
   "execution_count": 46,
   "id": "51ed8b7f-e861-47b5-ae6d-fe86e167b2f8",
   "metadata": {},
   "outputs": [],
   "source": [
    "c = 'green'"
   ]
  },
  {
   "cell_type": "code",
   "execution_count": 47,
   "id": "c818262c-3177-4756-88f3-922a97872279",
   "metadata": {},
   "outputs": [
    {
     "data": {
      "text/plain": [
       "'greengreengreengreengreengreengreengreengreengreengreengreengreengreengreengreengreengreengreengreengreengreengreengreengreengreengreengreengreengreengreengreengreengreengreengreengreengreengreengreengreengreengreengreengreengreengreengreengreengreengreengreengreengreengreengreengreengreengreengreengreengreengreengreengreengreengreengreengreengreengreengreengreengreengreengreengreengreengreengreengreengreengreengreengreengreengreengreengreengreengreengreengreengreengreengreengreengreengreengreen'"
      ]
     },
     "execution_count": 47,
     "metadata": {},
     "output_type": "execute_result"
    }
   ],
   "source": [
    "c*100"
   ]
  },
  {
   "cell_type": "code",
   "execution_count": null,
   "id": "93da743b-397c-40b4-ad73-3c632f97d5cb",
   "metadata": {},
   "outputs": [],
   "source": []
  },
  {
   "cell_type": "code",
   "execution_count": null,
   "id": "2c416d4a-8e99-4b3e-8082-3fd3d4cc2647",
   "metadata": {},
   "outputs": [],
   "source": []
  },
  {
   "cell_type": "code",
   "execution_count": null,
   "id": "4fc4ed03-acb1-4b40-807d-27d7067af446",
   "metadata": {},
   "outputs": [],
   "source": []
  },
  {
   "cell_type": "code",
   "execution_count": null,
   "id": "8c1b0506-fe25-48fe-af73-662f501d09c0",
   "metadata": {},
   "outputs": [],
   "source": []
  },
  {
   "cell_type": "code",
   "execution_count": null,
   "id": "9d4cec05-e61f-41b4-bbdc-6778c8506a7d",
   "metadata": {},
   "outputs": [],
   "source": []
  },
  {
   "cell_type": "code",
   "execution_count": null,
   "id": "76a9b41c-f405-47de-815b-d2bee82060b9",
   "metadata": {},
   "outputs": [],
   "source": []
  },
  {
   "cell_type": "code",
   "execution_count": null,
   "id": "8db71b75-e8e7-4b32-be45-e2a18d403b94",
   "metadata": {},
   "outputs": [],
   "source": []
  }
 ],
 "metadata": {
  "kernelspec": {
   "display_name": "Python 3 (ipykernel)",
   "language": "python",
   "name": "python3"
  },
  "language_info": {
   "codemirror_mode": {
    "name": "ipython",
    "version": 3
   },
   "file_extension": ".py",
   "mimetype": "text/x-python",
   "name": "python",
   "nbconvert_exporter": "python",
   "pygments_lexer": "ipython3",
   "version": "3.12.4"
  }
 },
 "nbformat": 4,
 "nbformat_minor": 5
}
